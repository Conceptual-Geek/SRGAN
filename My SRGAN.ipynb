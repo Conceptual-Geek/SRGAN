{
 "cells": [
  {
   "cell_type": "code",
   "execution_count": 1,
   "metadata": {},
   "outputs": [
    {
     "name": "stderr",
     "output_type": "stream",
     "text": [
      "Using TensorFlow backend.\n",
      "C:\\Users\\Sam\\Anaconda3\\lib\\site-packages\\tensorflow\\python\\framework\\dtypes.py:526: FutureWarning: Passing (type, 1) or '1type' as a synonym of type is deprecated; in a future version of numpy, it will be understood as (type, (1,)) / '(1,)type'.\n",
      "  _np_qint8 = np.dtype([(\"qint8\", np.int8, 1)])\n",
      "C:\\Users\\Sam\\Anaconda3\\lib\\site-packages\\tensorflow\\python\\framework\\dtypes.py:527: FutureWarning: Passing (type, 1) or '1type' as a synonym of type is deprecated; in a future version of numpy, it will be understood as (type, (1,)) / '(1,)type'.\n",
      "  _np_quint8 = np.dtype([(\"quint8\", np.uint8, 1)])\n",
      "C:\\Users\\Sam\\Anaconda3\\lib\\site-packages\\tensorflow\\python\\framework\\dtypes.py:528: FutureWarning: Passing (type, 1) or '1type' as a synonym of type is deprecated; in a future version of numpy, it will be understood as (type, (1,)) / '(1,)type'.\n",
      "  _np_qint16 = np.dtype([(\"qint16\", np.int16, 1)])\n",
      "C:\\Users\\Sam\\Anaconda3\\lib\\site-packages\\tensorflow\\python\\framework\\dtypes.py:529: FutureWarning: Passing (type, 1) or '1type' as a synonym of type is deprecated; in a future version of numpy, it will be understood as (type, (1,)) / '(1,)type'.\n",
      "  _np_quint16 = np.dtype([(\"quint16\", np.uint16, 1)])\n",
      "C:\\Users\\Sam\\Anaconda3\\lib\\site-packages\\tensorflow\\python\\framework\\dtypes.py:530: FutureWarning: Passing (type, 1) or '1type' as a synonym of type is deprecated; in a future version of numpy, it will be understood as (type, (1,)) / '(1,)type'.\n",
      "  _np_qint32 = np.dtype([(\"qint32\", np.int32, 1)])\n",
      "C:\\Users\\Sam\\Anaconda3\\lib\\site-packages\\tensorflow\\python\\framework\\dtypes.py:535: FutureWarning: Passing (type, 1) or '1type' as a synonym of type is deprecated; in a future version of numpy, it will be understood as (type, (1,)) / '(1,)type'.\n",
      "  np_resource = np.dtype([(\"resource\", np.ubyte, 1)])\n"
     ]
    }
   ],
   "source": [
    "import numpy as np\n",
    "from keras import Model\n",
    "from keras.layers import Conv2D, PReLU,BatchNormalization, Flatten,UpSampling2D,Conv2DTranspose\n",
    "from keras.layers import UpSampling2D, LeakyReLU, Dense, Input, add,Add,concatenate,Concatenate\n",
    "from keras.utils import plot_model\n",
    "from keras.utils.vis_utils import model_to_dot\n",
    "from IPython.display import HTML, display, clear_output, SVG\n",
    "import pydot\n",
    "import graphviz\n",
    "from keras.applications import VGG19\n",
    "import glob\n",
    "import cv2 as cv\n",
    "import warnings\n"
   ]
  },
  {
   "cell_type": "code",
   "execution_count": 5,
   "metadata": {},
   "outputs": [
    {
     "name": "stdout",
     "output_type": "stream",
     "text": [
      "WARNING:tensorflow:From C:\\Users\\Sam\\Anaconda3\\lib\\site-packages\\tensorflow\\python\\framework\\op_def_library.py:263: colocate_with (from tensorflow.python.framework.ops) is deprecated and will be removed in a future version.\n",
      "Instructions for updating:\n",
      "Colocations handled automatically by placer.\n"
     ]
    }
   ],
   "source": [
    "input_image=Input(shape=(25,25,3))\n",
    "conv_layer=Conv2D(filters=64,kernel_size=(9,9),strides=(1,1),padding='same')(input_image)\n",
    "input_block=PReLU()(conv_layer)\n"
   ]
  },
  {
   "cell_type": "code",
   "execution_count": 6,
   "metadata": {},
   "outputs": [],
   "source": [
    "def res_block(inp):\n",
    "    block=Conv2D(filters=64,kernel_size=(3,3),strides=(1,1),padding='same')(inp)\n",
    "    block=BatchNormalization()(block)\n",
    "    block=PReLU()(block)\n",
    "    block=Conv2D(filters=64,kernel_size=(3,3),strides=(1,1),padding='same')(block)\n",
    "    block=BatchNormalization()(block)\n",
    "   \n",
    "    return Add()([inp,block])\n",
    "    "
   ]
  },
  {
   "cell_type": "code",
   "execution_count": 7,
   "metadata": {},
   "outputs": [],
   "source": [
    "#input_image=Input(shape=(256,256,3))\n",
    "generative_model=input_block\n",
    "blocks=5\n",
    "for i in range(blocks):\n",
    "    generative_model=res_block(generative_model)\n",
    "\n",
    "block=Conv2D(filters=64,kernel_size=(3,3),strides=(1,1),padding='same')(generative_model)\n",
    "block=BatchNormalization()(block)\n",
    "generative_model=Add()([input_block,block])\n",
    "\n",
    "block=Conv2D(filters=256,kernel_size=(3,3),strides=(1,1),padding='same')(generative_model)\n",
    "block=UpSampling2D(size=(2,2),interpolation='nearest')(block)\n",
    "block=Conv2D(filters=256,kernel_size=(3,3),strides=(1,1),padding='same')(block)\n",
    "block=UpSampling2D(size=(2,2),interpolation='nearest')(block)\n",
    "block=Conv2D(filters=256,kernel_size=(3,3),strides=(1,1),padding='same')(block)\n",
    "block=PReLU()(block)\n",
    "\n",
    "block=Conv2D(filters=256,kernel_size=(3,3),strides=(1,1),padding='same')(generative_model)\n",
    "block=UpSampling2D(size=(2,2),interpolation='nearest')(block)\n",
    "block=Conv2D(filters=256,kernel_size=(3,3),strides=(1,1),padding='same')(block)\n",
    "block=UpSampling2D(size=(2,2),interpolation='nearest')(block)\n",
    "block=Conv2D(filters=256,kernel_size=(3,3),strides=(1,1),padding='same')(block)\n",
    "block=PReLU()(block)\n",
    "\n",
    "generative_model=Conv2D(filters=3,kernel_size=(9,9),strides=(1,1),padding='same')(block)\n",
    "\n",
    "\n",
    " \n",
    "generative_model=Model(input_image,generative_model)"
   ]
  },
  {
   "cell_type": "code",
   "execution_count": 8,
   "metadata": {},
   "outputs": [],
   "source": [
    "#generative_model.summary()"
   ]
  },
  {
   "cell_type": "code",
   "execution_count": 10,
   "metadata": {},
   "outputs": [],
   "source": [
    "#plot_model(generative_model, to_file='model.png')\n",
    "#SVG(model_to_dot(generative_model, show_layer_names=True, show_shapes=True, rankdir='TB').create(prog='dot', format='svg'))"
   ]
  },
  {
   "cell_type": "code",
   "execution_count": 11,
   "metadata": {},
   "outputs": [],
   "source": [
    "disc_inp_image=Input(shape=(100,100,3))\n",
    "disc_first_block=Conv2D(filters=64,kernel_size=(3,3),strides=(1,1),padding='valid')(disc_inp_image)\n",
    "discriminator_model=LeakyReLU()(disc_first_block)"
   ]
  },
  {
   "cell_type": "code",
   "execution_count": 12,
   "metadata": {},
   "outputs": [],
   "source": [
    "def disc_block(pre_layers,filters_value,stride_value):\n",
    "    block=Conv2D(filters=filters_value,kernel_size=(3,3),strides=(stride_value,stride_value),padding='same')(pre_layers)\n",
    "    block=BatchNormalization()(block)\n",
    "    block=LeakyReLU()(block)\n",
    "    \n",
    "    return block"
   ]
  },
  {
   "cell_type": "code",
   "execution_count": 13,
   "metadata": {},
   "outputs": [],
   "source": [
    "filters_list=[64,128,128,256,256,512,512]\n",
    "strides_list=[2,1,2,1,2,1,2]\n",
    "\n",
    "for i,j in zip(filters_list,strides_list):\n",
    "    discriminator_model=disc_block(discriminator_model,i,j)\n",
    "    \n",
    "discriminator_model=Flatten()(discriminator_model)\n",
    "discriminator_model=Dense(1024)(discriminator_model)\n",
    "discriminator_model=LeakyReLU()(discriminator_model)\n",
    "discriminator_model=Dense(1 ,activation='sigmoid')(discriminator_model)\n",
    "\n",
    "discriminator_model=Model(disc_inp_image,discriminator_model)\n",
    "discriminator_model.compile(loss='binary_crossentropy',optimizer=\"adam\",metrics=['accuracy'])\n"
   ]
  },
  {
   "cell_type": "code",
   "execution_count": 14,
   "metadata": {},
   "outputs": [],
   "source": [
    "#discriminator_model.summary()"
   ]
  },
  {
   "cell_type": "code",
   "execution_count": 15,
   "metadata": {},
   "outputs": [],
   "source": [
    "#plot_model(discriminator_model,'disc_model.png')\n",
    "#SVG(model_to_dot(discriminator_model,show_layer_names=True,show_shapes=True,rankdir='TB').create(prog=\"dot\",format='svg'))"
   ]
  },
  {
   "cell_type": "code",
   "execution_count": 2,
   "metadata": {},
   "outputs": [],
   "source": [
    "def vgg_model():\n",
    "    input_shape=Input(shape=(100,100,3))\n",
    "    vgg = VGG19(weights=\"imagenet\")\n",
    "    vgg.outputs = [vgg.layers[9].output]\n",
    "    vgg_output_layer10=vgg(input_shape)\n",
    "    \n",
    "    return Model(input_shape,vgg_output_layer10)"
   ]
  },
  {
   "cell_type": "code",
   "execution_count": 4,
   "metadata": {},
   "outputs": [
    {
     "data": {
      "image/svg+xml": [
       "<svg height=\"138pt\" viewBox=\"0.00 0.00 315.00 138.00\" width=\"315pt\" xmlns=\"http://www.w3.org/2000/svg\" xmlns:xlink=\"http://www.w3.org/1999/xlink\">\n",
       "<g class=\"graph\" id=\"graph0\" transform=\"scale(1 1) rotate(0) translate(4 134)\">\n",
       "<title>G</title>\n",
       "<polygon fill=\"white\" points=\"-4,4 -4,-134 311,-134 311,4 -4,4\" stroke=\"none\"/>\n",
       "<!-- 2164831987360 -->\n",
       "<g class=\"node\" id=\"node1\"><title>2164831987360</title>\n",
       "<polygon fill=\"none\" points=\"0,-83.5 0,-129.5 307,-129.5 307,-83.5 0,-83.5\" stroke=\"black\"/>\n",
       "<text font-family=\"Times New Roman,serif\" font-size=\"14.00\" text-anchor=\"middle\" x=\"63\" y=\"-102.8\">input_3: InputLayer</text>\n",
       "<polyline fill=\"none\" points=\"126,-83.5 126,-129.5 \" stroke=\"black\"/>\n",
       "<text font-family=\"Times New Roman,serif\" font-size=\"14.00\" text-anchor=\"middle\" x=\"154\" y=\"-114.3\">input:</text>\n",
       "<polyline fill=\"none\" points=\"126,-106.5 182,-106.5 \" stroke=\"black\"/>\n",
       "<text font-family=\"Times New Roman,serif\" font-size=\"14.00\" text-anchor=\"middle\" x=\"154\" y=\"-91.3\">output:</text>\n",
       "<polyline fill=\"none\" points=\"182,-83.5 182,-129.5 \" stroke=\"black\"/>\n",
       "<text font-family=\"Times New Roman,serif\" font-size=\"14.00\" text-anchor=\"middle\" x=\"244.5\" y=\"-114.3\">(None, 100, 100, 3)</text>\n",
       "<polyline fill=\"none\" points=\"182,-106.5 307,-106.5 \" stroke=\"black\"/>\n",
       "<text font-family=\"Times New Roman,serif\" font-size=\"14.00\" text-anchor=\"middle\" x=\"244.5\" y=\"-91.3\">(None, 100, 100, 3)</text>\n",
       "</g>\n",
       "<!-- 2164834727752 -->\n",
       "<g class=\"node\" id=\"node2\"><title>2164834727752</title>\n",
       "<polygon fill=\"none\" points=\"49,-0.5 49,-46.5 258,-46.5 258,-0.5 49,-0.5\" stroke=\"black\"/>\n",
       "<text font-family=\"Times New Roman,serif\" font-size=\"14.00\" text-anchor=\"middle\" x=\"95.5\" y=\"-19.8\">vgg19: Model</text>\n",
       "<polyline fill=\"none\" points=\"142,-0.5 142,-46.5 \" stroke=\"black\"/>\n",
       "<text font-family=\"Times New Roman,serif\" font-size=\"14.00\" text-anchor=\"middle\" x=\"170\" y=\"-31.3\">input:</text>\n",
       "<polyline fill=\"none\" points=\"142,-23.5 198,-23.5 \" stroke=\"black\"/>\n",
       "<text font-family=\"Times New Roman,serif\" font-size=\"14.00\" text-anchor=\"middle\" x=\"170\" y=\"-8.3\">output:</text>\n",
       "<polyline fill=\"none\" points=\"198,-0.5 198,-46.5 \" stroke=\"black\"/>\n",
       "<text font-family=\"Times New Roman,serif\" font-size=\"14.00\" text-anchor=\"middle\" x=\"228\" y=\"-31.3\">multiple</text>\n",
       "<polyline fill=\"none\" points=\"198,-23.5 258,-23.5 \" stroke=\"black\"/>\n",
       "<text font-family=\"Times New Roman,serif\" font-size=\"14.00\" text-anchor=\"middle\" x=\"228\" y=\"-8.3\">multiple</text>\n",
       "</g>\n",
       "<!-- 2164831987360&#45;&gt;2164834727752 -->\n",
       "<g class=\"edge\" id=\"edge1\"><title>2164831987360-&gt;2164834727752</title>\n",
       "<path d=\"M153.5,-83.3664C153.5,-75.1516 153.5,-65.6579 153.5,-56.7252\" fill=\"none\" stroke=\"black\"/>\n",
       "<polygon fill=\"black\" points=\"157,-56.6068 153.5,-46.6068 150,-56.6069 157,-56.6068\" stroke=\"black\"/>\n",
       "</g>\n",
       "</g>\n",
       "</svg>"
      ],
      "text/plain": [
       "<IPython.core.display.SVG object>"
      ]
     },
     "execution_count": 4,
     "metadata": {},
     "output_type": "execute_result"
    }
   ],
   "source": [
    "vgg=vgg_model()\n",
    "SVG(model_to_dot(vgg,show_layer_names=True,show_shapes=True,rankdir='TB').create(prog=\"dot\",format='svg'))"
   ]
  },
  {
   "cell_type": "code",
   "execution_count": 18,
   "metadata": {},
   "outputs": [],
   "source": [
    "def srgan():\n",
    "    input_shape=Input(shape=(25,25,3))\n",
    "    disc_input_shape=Input(shape=(100,100,3))\n",
    "    \n",
    "    #vgg=vgg_model()\n",
    "    vgg.trainable=False\n",
    "    discriminator_model.trainable=False\n",
    "    \n",
    "    gen_image=generative_model(input_shape)\n",
    "    vgg_features=vgg(gen_image)\n",
    "    disc_value=discriminator_model(gen_image)\n",
    "    \n",
    "    return Model([input_shape,disc_input_shape],[vgg_features,disc_value])\n",
    "    \n",
    "    "
   ]
  },
  {
   "cell_type": "code",
   "execution_count": 19,
   "metadata": {},
   "outputs": [],
   "source": [
    "SRGAN=srgan()\n",
    "SRGAN.compile(loss=['binary_crossentropy','mse'],loss_weights=[1e-3,1],optimizer='adam')"
   ]
  },
  {
   "cell_type": "code",
   "execution_count": 76,
   "metadata": {},
   "outputs": [
    {
     "name": "stdout",
     "output_type": "stream",
     "text": [
      "__________________________________________________________________________________________________\n",
      "Layer (type)                    Output Shape         Param #     Connected to                     \n",
      "==================================================================================================\n",
      "input_33 (InputLayer)           (None, 25, 25, 3)    0                                            \n",
      "__________________________________________________________________________________________________\n",
      "model_16 (Model)                (None, 100, 100, 3)  4614723     input_33[0][0]                   \n",
      "__________________________________________________________________________________________________\n",
      "model_21 (Model)                (None, 25, 25, 256)  143667240   model_16[2][0]                   \n",
      "__________________________________________________________________________________________________\n",
      "model_17 (Model)                (None, 1)            30384961    model_16[2][0]                   \n",
      "==================================================================================================\n",
      "Total params: 178,666,924\n",
      "Trainable params: 4,613,315\n",
      "Non-trainable params: 174,053,609\n",
      "__________________________________________________________________________________________________\n"
     ]
    }
   ],
   "source": [
    "SRGAN.summary()                                                                                          "
   ]
  },
  {
   "cell_type": "code",
   "execution_count": 20,
   "metadata": {},
   "outputs": [],
   "source": [
    "#SVG(model_to_dot(SRGAN,show_layer_names=True,show_shapes=True,rankdir='TB').create(prog=\"dot\",format='svg'))"
   ]
  },
  {
   "cell_type": "code",
   "execution_count": 21,
   "metadata": {},
   "outputs": [],
   "source": [
    "#SRGAN.summary()"
   ]
  },
  {
   "cell_type": "code",
   "execution_count": 22,
   "metadata": {},
   "outputs": [],
   "source": [
    "#plot_model(SRGAN,'SRGAN_model.png')\n",
    "#SVG(model_to_dot(SRGAN,show_layer_names=True,show_shapes=True,rankdir='TB').create(prog=\"dot\",format='svg'))"
   ]
  },
  {
   "cell_type": "code",
   "execution_count": 23,
   "metadata": {},
   "outputs": [],
   "source": [
    "dataset_folder_path=r'dataset'\n",
    "train_hr_folder=r'\\train\\hr\\*'\n",
    "test_hr_folder=r'\\test\\hr\\*'\n",
    "train_lr_folder=r'\\train\\lr\\*'\n",
    "test_lr_folder=r'\\test\\lr\\*'\n"
   ]
  },
  {
   "cell_type": "code",
   "execution_count": 24,
   "metadata": {},
   "outputs": [],
   "source": [
    "hr_train_images_paths=glob.glob(dataset_folder_path+train_hr_folder)\n",
    "hr_test_images_paths=glob.glob(dataset_folder_path+test_hr_folder)\n",
    "lr_train_images_paths=glob.glob(dataset_folder_path+train_lr_folder)\n",
    "lr_test_images_paths=glob.glob(dataset_folder_path+test_lr_folder)"
   ]
  },
  {
   "cell_type": "code",
   "execution_count": 25,
   "metadata": {},
   "outputs": [
    {
     "data": {
      "text/plain": [
       "(2500, 500, 2500, 500)"
      ]
     },
     "execution_count": 25,
     "metadata": {},
     "output_type": "execute_result"
    }
   ],
   "source": [
    "len(hr_train_images_paths),len(hr_test_images_paths) ,len(lr_train_images_paths),len(lr_test_images_paths)"
   ]
  },
  {
   "cell_type": "code",
   "execution_count": 26,
   "metadata": {},
   "outputs": [],
   "source": [
    "hr_train_images_paths.sort()\n",
    "hr_test_images_paths.sort()\n",
    "lr_train_images_paths.sort()\n",
    "lr_test_images_paths.sort()"
   ]
  },
  {
   "cell_type": "code",
   "execution_count": 60,
   "metadata": {},
   "outputs": [],
   "source": [
    "hr_train_images=[]\n",
    "lr_train_images=[]\n",
    "hr_test_images=[]\n",
    "lr_test_images=[]\n",
    "for path1,path2 in zip(hr_train_images_paths,lr_train_images_paths):\n",
    "    img1=cv.imread(path1)/255\n",
    "    img2=cv.imread(path2)/255\n",
    "    hr_train_images.append(img1)\n",
    "    lr_train_images.append(img2)\n",
    "for path1,path2 in zip(hr_test_images_paths,lr_test_images_paths):\n",
    "    img1=cv.imread(path1)/255\n",
    "    img2=cv.imread(path2)/255\n",
    "    hr_test_images.append(img1)\n",
    "    lr_test_images.append(img2) "
   ]
  },
  {
   "cell_type": "code",
   "execution_count": 61,
   "metadata": {},
   "outputs": [],
   "source": [
    "#(hr_train_images.shape,lr_train_images.shape),(hr_test_images.shape,lr_test_images.shape)"
   ]
  },
  {
   "cell_type": "code",
   "execution_count": 66,
   "metadata": {},
   "outputs": [
    {
     "data": {
      "text/plain": [
       "2500"
      ]
     },
     "execution_count": 66,
     "metadata": {},
     "output_type": "execute_result"
    }
   ],
   "source": [
    "len(hr_train_images)"
   ]
  },
  {
   "cell_type": "code",
   "execution_count": 67,
   "metadata": {},
   "outputs": [],
   "source": [
    "epochs=20\n",
    "batch_size=15\n",
    "train_steps_per_epoch=int(np.ceil(len(hr_train_images)/batch_size))\n",
    "test_steps_per_epoch=int(np.ceil(len(hr_test_images)/batch_size))"
   ]
  },
  {
   "cell_type": "code",
   "execution_count": 86,
   "metadata": {},
   "outputs": [],
   "source": [
    "\n",
    "hr_train_batches=[]\n",
    "hr_test_batches=[]\n",
    "lr_train_batches=[]\n",
    "lr_test_batches=[]\n",
    "\n",
    "\n",
    "\n",
    "for i in range(train_steps_per_epoch):\n",
    "    hr_train_batches.append(hr_train_images[batch_size*i:(i+1)*batch_size])\n",
    "    lr_train_batches.append(lr_train_images[batch_size*i:(i+1)*batch_size])        \n",
    "\n",
    "for i in range(epochs):\n",
    "    g_losses=[]\n",
    "    d_losses=[]\n",
    "    gen_lable=np.zero((batch_size,1))\n",
    "    real_lable=np.ones((batch_size,1))    \n",
    "    for j in range(train_steps_per_epoch):\n",
    "        hr_train_batch=np.array(hr_train_batches[j])\n",
    "        lr_train_batch=np.array(lr_train_batches[j])\n",
    "\n",
    "        \n",
    "        gen_img=generative_model.predict(lr_train_batch)\n",
    "        \n",
    "        discriminator_model.trainable=True\n",
    "        disc_loss1=discriminator_model.train_on_batch(gen_img ,gen_lable)\n",
    "        disc_loss2=discriminator_model.train_on_batch(hr_train_batch,real_lable )\n",
    "        \n",
    "        discriminator_model.trainable = False\n",
    "        vgg_features=vgg.predict(hr_train_batch)\n",
    "        d_loss=0.5 * np.add(disc_loss1,disc_loss2)\n",
    "        \n",
    "        gen_loss,x,y = SRGAN.train_on_batch([lr_train_batch,hr_train_batch],[vgg_features,real_lable])\n",
    "        \n",
    "        g_losses.append(gen_loss)\n",
    "        d_losses.append(d_loss)\n",
    "    g_losses=np.array(g_losses)\n",
    "    d_losses=np.array(d_losses)\n",
    "    g_loss_per_epoch=np.sum(g_losses,axis=0)/len(g_losses)\n",
    "    d_loss_per_epoch=np.sum(d_losses,axis=0)/len(d_losses)\n",
    "    print('Epoch : ' + str(i+1) + 'Generative Loss : Discriminator Loss = ' + str(d_loss_per_epoch)+ ':' + str(d_loss_per_epoch))           \n",
    "               "
   ]
  },
  {
   "cell_type": "code",
   "execution_count": 82,
   "metadata": {},
   "outputs": [
    {
     "data": {
      "text/plain": [
       "(15, 25, 25, 3)"
      ]
     },
     "execution_count": 82,
     "metadata": {},
     "output_type": "execute_result"
    }
   ],
   "source": [
    "np.array(lr_train_batches[1]).shape"
   ]
  },
  {
   "cell_type": "code",
   "execution_count": 13,
   "metadata": {},
   "outputs": [
    {
     "name": "stdout",
     "output_type": "stream",
     "text": [
      "_________________________________________________________________\n",
      "Layer (type)                 Output Shape              Param #   \n",
      "=================================================================\n",
      "input_18 (InputLayer)        (None, 100, 100, 3)       0         \n",
      "_________________________________________________________________\n",
      "up_sampling2d_6 (UpSampling2 (None, 200, 200, 3)       0         \n",
      "_________________________________________________________________\n",
      "vgg19 (Model)                (None, 1000)              143667240 \n",
      "=================================================================\n",
      "Total params: 143,667,240\n",
      "Trainable params: 143,667,240\n",
      "Non-trainable params: 0\n",
      "_________________________________________________________________\n"
     ]
    }
   ],
   "source": [
    "input_shape=Input(shape=(100,100,3))\n",
    "block=UpSampling2D(size=(2,2),interpolation='nearest')(input_shape)\n",
    "#block=UpSampling2D(size=(2,2),interpolation='nearest')(block)\n",
    "vgg = VGG19(weights=\"imagenet\")(block)\n",
    "#vgg.outputs = [vgg.layers[9].output]\n",
    "#vgg_output_layer10=vgg(input_shape)\n",
    "    \n",
    "Model(input_shape,vgg).summary()"
   ]
  },
  {
   "cell_type": "code",
   "execution_count": null,
   "metadata": {},
   "outputs": [],
   "source": []
  },
  {
   "cell_type": "code",
   "execution_count": null,
   "metadata": {},
   "outputs": [],
   "source": []
  }
 ],
 "metadata": {
  "kernelspec": {
   "display_name": "Python 3",
   "language": "python",
   "name": "python3"
  },
  "language_info": {
   "codemirror_mode": {
    "name": "ipython",
    "version": 3
   },
   "file_extension": ".py",
   "mimetype": "text/x-python",
   "name": "python",
   "nbconvert_exporter": "python",
   "pygments_lexer": "ipython3",
   "version": "3.6.4"
  }
 },
 "nbformat": 4,
 "nbformat_minor": 4
}
